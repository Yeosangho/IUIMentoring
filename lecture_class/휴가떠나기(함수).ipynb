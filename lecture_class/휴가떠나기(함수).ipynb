{
 "cells": [
  {
   "cell_type": "markdown",
   "metadata": {},
   "source": [
    "함수는 호출가능한 코드 블럭으로 계속 반복해서 사용할수 있습니다. \n",
    "함수를 사용함으로써, 코드의 공간을 절약하고, \n",
    "장문의 프로그램을 작성할 때 혼란을 방지할수 있습니다. \n",
    "\n",
    "### 01. \n",
    "아무 입력값도 받지 않는 함수 answer 와 함수가 숫자값 42를 반환하도록 만드세요"
   ]
  },
  {
   "cell_type": "code",
   "execution_count": null,
   "metadata": {
    "collapsed": true
   },
   "outputs": [],
   "source": []
  },
  {
   "cell_type": "markdown",
   "metadata": {},
   "source": [
    "## 여행 계획 짜기\n",
    "\n",
    "우리는 휴가시 사용되는 지출을 세개의 주요 지출로 나눈뒤, 마지막에는 하나의 큰 함수에서 합칠 것입니다. \n",
    "\n",
    "\n",
    "### 02.\n",
    "우선 변수 nights(하룻밤을 의미함)를 입력값으로 갖는 함수 hotel_cost를 작성하세요. \n",
    "이함수는 호텔이 하룻밤에 140달러가 든다고 할 때, 숙박으로 지출할 돈의 양을 반환해야 합니다. \n",
    "\n"
   ]
  },
  {
   "cell_type": "code",
   "execution_count": null,
   "metadata": {
    "collapsed": true
   },
   "outputs": [],
   "source": []
  }
 ],
 "metadata": {
  "kernelspec": {
   "display_name": "Python 3",
   "language": "python",
   "name": "python3"
  },
  "language_info": {
   "codemirror_mode": {
    "name": "ipython",
    "version": 3
   },
   "file_extension": ".py",
   "mimetype": "text/x-python",
   "name": "python",
   "nbconvert_exporter": "python",
   "pygments_lexer": "ipython3",
   "version": "3.4.3"
  }
 },
 "nbformat": 4,
 "nbformat_minor": 1
}
