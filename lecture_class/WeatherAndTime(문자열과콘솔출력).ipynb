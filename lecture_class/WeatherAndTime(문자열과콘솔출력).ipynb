{
 "cells": [
  {
   "cell_type": "markdown",
   "metadata": {},
   "source": [
    "이 프로젝트는 현재 시간을 제공하는 파이썬의 능력을 시험하는 프로그램이다. \n",
    "이는 문자열의 출력과 연결 그리고 str() 메소드 사용에 관한 몇가지 연습을 포함합니다. \n",
    "\n",
    "처음 시작으로 시간을 출력하기 위한 패키지 임포트를 한다. "
   ]
  },
  {
   "cell_type": "code",
   "execution_count": 2,
   "metadata": {
    "collapsed": true
   },
   "outputs": [],
   "source": [
    "from datetime import datetime"
   ]
  },
  {
   "cell_type": "markdown",
   "metadata": {
    "collapsed": true
   },
   "source": [
    "### 01. \n",
    "변수 **now** 를 생성하고 **datetime.now()**의 결과를 값으로 저장하세요. \n",
    "\n",
    "### 02.\n",
    "변수 **now** 를 출력하세요"
   ]
  },
  {
   "cell_type": "code",
   "execution_count": 7,
   "metadata": {
    "collapsed": false
   },
   "outputs": [
    {
     "name": "stdout",
     "output_type": "stream",
     "text": [
      "2017-05-12 12:21:29.369524\n",
      "2017-05-12\n"
     ]
    }
   ],
   "source": [
    "now = datetime.now()\n",
    "print(now)\n",
    "print(now.date())"
   ]
  },
  {
   "cell_type": "markdown",
   "metadata": {},
   "source": [
    "결과물의 형태가 2017-05-11 14:42:42.102297 입니다. \n",
    "알아보기힘들죠?\n",
    "여기서 datetime.now() 함수의 결과값을 년도별, 달과 날짜 별로 출력하는것을 알아봅시다. \n",
    "이를 위해 아래의 방식을 사용합니다. \n",
    ">**current_year = now.year**\n",
    "\n",
    "그렇다면, 달과 날짜를 출력하려면 어떻게 할까요? \n",
    "year가 년도를 출력한다면 **month**와 **day**는 날짜를 출력합니다. \n",
    "\n",
    "**여기서 중요한점은 year, month, day가 아니라, 이것이 왜 값을 가져오는지 생각하는것입니다.**\n",
    "\n",
    "조금 생각해보면 now()라는 함수 내에 year, month, day라는 변수가 있고, 우리가 그 값을 가져온다는것을 알수있을것입니다. \n"
   ]
  },
  {
   "cell_type": "markdown",
   "metadata": {},
   "source": [
    "### 03. \n",
    "각기다른줄에 달과 날짜 연도를 출력하세요."
   ]
  },
  {
   "cell_type": "code",
   "execution_count": null,
   "metadata": {
    "collapsed": true
   },
   "outputs": [],
   "source": []
  },
  {
   "cell_type": "markdown",
   "metadata": {},
   "source": [
    "다음은 최종목표인 달/날짜/연도 시:분:초 를 출력하는것입니다. \n",
    "슬래쉬를 한번추가해봅시다. "
   ]
  },
  {
   "cell_type": "markdown",
   "metadata": {},
   "source": [
    "> print (now.month, \"/\", now.day, \"/\", now.year)\n",
    "\n",
    "이렇게 데이터를 출력하는것역시 답이되겠지만 이경우 달,날짜 연도사이에 /뿐만아니라 공백을 남깁니다.\n",
    "이 경우 +를 사용해서 각 문자열들을 이어줄수 있습니다. \n",
    "하지만, +는 오직 문자열을 이어주는데에만 사용할수 있습니다.\n",
    "그런데, now.year의 타입은 정수형입니다. 타입은 type() 를 쓰면 알수있겟죠? \n",
    "\n",
    "따라서 문자열로 변환하기 위해서 str() 함수를 사용하여야 합니다.\n",
    "\n",
    "만약 변수 x에 문자열이 아닌 데이터가 있다면 다음과 같이 작성하여야합니다. \n",
    "\n",
    "### 04. \n",
    "type을 통해 now.year의 데이터타입을 출력해봅시다.\n",
    "\n",
    "### 05. \n",
    "현재의 날짜 정보를 달/날짜/연도 의 보기좋은 형태로 출력해주세요\n"
   ]
  },
  {
   "cell_type": "code",
   "execution_count": null,
   "metadata": {
    "collapsed": true
   },
   "outputs": [],
   "source": []
  },
  {
   "cell_type": "markdown",
   "metadata": {},
   "source": [
    "### 06.\n",
    "이제는 시간, 분, 초를 시:분:초 형태로 출력해주세요"
   ]
  },
  {
   "cell_type": "code",
   "execution_count": null,
   "metadata": {
    "collapsed": true
   },
   "outputs": [],
   "source": []
  },
  {
   "cell_type": "markdown",
   "metadata": {},
   "source": [
    "### 07.\n",
    "시간과 날짜 정보를 다음의 형태로 출력하세요 \n",
    "달/날짜/연도 시:분:초"
   ]
  },
  {
   "cell_type": "code",
   "execution_count": null,
   "metadata": {
    "collapsed": true
   },
   "outputs": [],
   "source": []
  }
 ],
 "metadata": {
  "kernelspec": {
   "display_name": "Python 3",
   "language": "python",
   "name": "python3"
  },
  "language_info": {
   "codemirror_mode": {
    "name": "ipython",
    "version": 3
   },
   "file_extension": ".py",
   "mimetype": "text/x-python",
   "name": "python",
   "nbconvert_exporter": "python",
   "pygments_lexer": "ipython3",
   "version": "3.4.3"
  }
 },
 "nbformat": 4,
 "nbformat_minor": 1
}
