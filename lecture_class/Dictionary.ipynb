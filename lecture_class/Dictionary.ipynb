{
 "cells": [
  {
   "cell_type": "markdown",
   "metadata": {},
   "source": [
    "## 딕셔너리 자료형 \n",
    "\n",
    "이전의 List와 튜플을 생각하면 List는 단순히 어떠한 값들의 연속된 나열을 하나의 자료형에 저장한것이다. \n",
    "하지만, 생각해보면, 실제 세계에서는 이와 다른 데이터가 존재한다. \n",
    "예를 들어 사람은 어떤 값의 연속된 나열이 아닌, 각 key값들에 대한 value로써 나타낼수 있다. \n"
   ]
  },
  {
   "cell_type": "markdown",
   "metadata": {},
   "source": [
    "### 사람 "
   ]
  },
  {
   "cell_type": "markdown",
   "metadata": {},
   "source": [
    "|Key|Value|\n",
    "|------|------|\n",
    "|이름  |홍길동  |\n",
    "|생일  |X월X일  |\n"
   ]
  },
  {
   "cell_type": "markdown",
   "metadata": {},
   "source": [
    "이러한 자료형을 파이썬에서 딕셔너리라고 한다. "
   ]
  },
  {
   "cell_type": "markdown",
   "metadata": {},
   "source": [
    "파이썬의 딕셔너리의 기본형은 다음과 같다.\n",
    "> {Key1:Value1, Key2:Value2, Key3:Value3 ...} \n",
    "\n",
    "Key와 Value의 쌍 여러개가 {과 }로 둘러싸여있으며, 각 Key:Value들이 ,(쉼표)로 구분되어있다. "
   ]
  },
  {
   "cell_type": "markdown",
   "metadata": {},
   "source": []
  }
 ],
 "metadata": {
  "kernelspec": {
   "display_name": "Python 3",
   "language": "python",
   "name": "python3"
  },
  "language_info": {
   "codemirror_mode": {
    "name": "ipython",
    "version": 3
   },
   "file_extension": ".py",
   "mimetype": "text/x-python",
   "name": "python",
   "nbconvert_exporter": "python",
   "pygments_lexer": "ipython3",
   "version": "3.4.3"
  }
 },
 "nbformat": 4,
 "nbformat_minor": 1
}
