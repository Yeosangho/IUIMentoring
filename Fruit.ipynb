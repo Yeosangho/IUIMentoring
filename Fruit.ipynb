{
 "cells": [
  {
   "cell_type": "code",
   "execution_count": 6,
   "metadata": {
    "collapsed": false
   },
   "outputs": [],
   "source": [
    "class Fruit(object):\n",
    "    \"\"\"다양하고 맛있는 과일을 생성하는 클래스.\"\"\"\n",
    "    def __init__(self, name, color, flavor, poisonous):\n",
    "        self.name = name\n",
    "        self.color = color\n",
    "        self.flavor = flavor\n",
    "        self.poisonous = poisonous\n",
    "\n",
    "    def description(self):\n",
    "        print (\"I'm a %s %s and I taste %s.\" % (self.color, self.name, self.flavor))\n",
    "\n",
    "    def is_edible(self):\n",
    "        if not self.poisonous:\n",
    "            print (\"Yep! I'm edible.\")\n",
    "        else:\n",
    "            print (\"Don't eat me! I am super poisonous.\")"
   ]
  },
  {
   "cell_type": "code",
   "execution_count": null,
   "metadata": {
    "collapsed": false
   },
   "outputs": [],
   "source": []
  },
  {
   "cell_type": "code",
   "execution_count": null,
   "metadata": {
    "collapsed": true
   },
   "outputs": [],
   "source": []
  },
  {
   "cell_type": "code",
   "execution_count": null,
   "metadata": {
    "collapsed": true
   },
   "outputs": [],
   "source": []
  },
  {
   "cell_type": "code",
   "execution_count": null,
   "metadata": {
    "collapsed": true
   },
   "outputs": [],
   "source": []
  }
 ],
 "metadata": {
  "kernelspec": {
   "display_name": "Python 3",
   "language": "python",
   "name": "python3"
  },
  "language_info": {
   "codemirror_mode": {
    "name": "ipython",
    "version": 3
   },
   "file_extension": ".py",
   "mimetype": "text/x-python",
   "name": "python",
   "nbconvert_exporter": "python",
   "pygments_lexer": "ipython3",
   "version": "3.4.3"
  }
 },
 "nbformat": 4,
 "nbformat_minor": 1
}
